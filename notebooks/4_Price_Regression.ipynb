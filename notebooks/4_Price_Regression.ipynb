{
 "cells": [
  {
   "cell_type": "markdown",
   "metadata": {},
   "source": [
    "# Step 4\n",
    "### Price Regression\n",
    "<br>\n",
    "\n",
    "----\n",
    "\n",
    "#### Load Cities File"
   ]
  },
  {
   "cell_type": "code",
   "execution_count": 1,
   "metadata": {},
   "outputs": [],
   "source": [
    "import pandas as pd\n",
    "import numpy as np\n"
   ]
  },
  {
   "cell_type": "code",
   "execution_count": 2,
   "metadata": {},
   "outputs": [],
   "source": [
    "cities_data = pd.read_pickle(\"../data/pickles/cities_3.pkl\")\n"
   ]
  },
  {
   "cell_type": "markdown",
   "metadata": {},
   "source": [
    "#### Do Initial Test on Airbnb Data (No Geo)"
   ]
  },
  {
   "cell_type": "code",
   "execution_count": 3,
   "metadata": {},
   "outputs": [],
   "source": [
    "import os\n",
    "import sys\n",
    "sys.path.append(os.path.abspath(os.path.join('../src')))\n"
   ]
  },
  {
   "cell_type": "code",
   "execution_count": 4,
   "metadata": {},
   "outputs": [],
   "source": [
    "from regression_pipeline import regression_pipeline\n",
    "\n",
    "cloned_pipeline = regression_pipeline()\n"
   ]
  },
  {
   "cell_type": "code",
   "execution_count": 5,
   "metadata": {},
   "outputs": [],
   "source": [
    "from sklearn.base import clone\n",
    "\n",
    "from prepare_data.prepare_data_1 import prepare_data_1\n"
   ]
  },
  {
   "cell_type": "code",
   "execution_count": 6,
   "metadata": {},
   "outputs": [
    {
     "ename": "NameError",
     "evalue": "name 'cur_pipeline' is not defined",
     "output_type": "error",
     "traceback": [
      "\u001b[0;31m---------------------------------------------------------------------------\u001b[0m",
      "\u001b[0;31mNameError\u001b[0m                                 Traceback (most recent call last)",
      "\u001b[0;32m<ipython-input-6-ca19dfd7c33e>\u001b[0m in \u001b[0;36m<module>\u001b[0;34m\u001b[0m\n\u001b[0;32m----> 1\u001b[0;31m \u001b[0merror_table_1\u001b[0m \u001b[0;34m=\u001b[0m \u001b[0mnp\u001b[0m\u001b[0;34m.\u001b[0m\u001b[0mzeros\u001b[0m\u001b[0;34m(\u001b[0m\u001b[0;34m(\u001b[0m\u001b[0mlen\u001b[0m\u001b[0;34m(\u001b[0m\u001b[0mcities_data\u001b[0m\u001b[0;34m)\u001b[0m\u001b[0;34m,\u001b[0m \u001b[0;36m1\u001b[0m\u001b[0;34m+\u001b[0m\u001b[0mlen\u001b[0m\u001b[0;34m(\u001b[0m\u001b[0mcur_pipeline\u001b[0m\u001b[0;34m[\u001b[0m\u001b[0;34m-\u001b[0m\u001b[0;36m1\u001b[0m\u001b[0;34m]\u001b[0m\u001b[0;34m.\u001b[0m\u001b[0mregressors\u001b[0m\u001b[0;34m)\u001b[0m\u001b[0;34m)\u001b[0m\u001b[0;34m)\u001b[0m\u001b[0;34m\u001b[0m\u001b[0;34m\u001b[0m\u001b[0m\n\u001b[0m\u001b[1;32m      2\u001b[0m \u001b[0;34m\u001b[0m\u001b[0m\n\u001b[1;32m      3\u001b[0m \u001b[0;32mfor\u001b[0m \u001b[0;34m(\u001b[0m\u001b[0mcur_index\u001b[0m\u001b[0;34m,\u001b[0m \u001b[0mcur_city\u001b[0m\u001b[0;34m)\u001b[0m \u001b[0;32min\u001b[0m \u001b[0menumerate\u001b[0m\u001b[0;34m(\u001b[0m\u001b[0mcities_data\u001b[0m\u001b[0;34m.\u001b[0m\u001b[0mitertuples\u001b[0m\u001b[0;34m(\u001b[0m\u001b[0;34m)\u001b[0m\u001b[0;34m)\u001b[0m\u001b[0;34m:\u001b[0m\u001b[0;34m\u001b[0m\u001b[0;34m\u001b[0m\u001b[0m\n\u001b[1;32m      4\u001b[0m     \u001b[0mprint\u001b[0m\u001b[0;34m(\u001b[0m\u001b[0mcur_city\u001b[0m\u001b[0;34m.\u001b[0m\u001b[0mname\u001b[0m\u001b[0;34m)\u001b[0m\u001b[0;34m\u001b[0m\u001b[0;34m\u001b[0m\u001b[0m\n\u001b[1;32m      5\u001b[0m \u001b[0;34m\u001b[0m\u001b[0m\n",
      "\u001b[0;31mNameError\u001b[0m: name 'cur_pipeline' is not defined"
     ]
    }
   ],
   "source": [
    "error_table_1 = np.zeros((len(cities_data), 1+len(cur_pipeline[-1].regressors)))\n",
    "\n",
    "for (cur_index, cur_city) in enumerate(cities_data.itertuples()):\n",
    "    print(cur_city.name)\n",
    "    \n",
    "    cur_X, cur_y, cur_w = prepare_data_1(cur_city.X_train, cur_city.y_train)\n",
    "\n",
    "    cur_pipeline = clone(cloned_pipeline).fit(\n",
    "        cur_X, cur_y, **{'regressor__sample_weight': cur_w}\n",
    "    )\n",
    "\n",
    "    cur_X, cur_y, cur_w = prepare_data_1(cur_city.X_test, cur_city.y_test)\n",
    "    \n",
    "    error_table_1[cur_index, 0] = \\\n",
    "        cur_pipeline.score(cur_X, cur_y, cur_w)\n",
    "\n",
    "    for (cur_sub_index, tmp_regressor) in enumerate(cur_pipeline[-1].regr_):\n",
    "        error_table_1[cur_index, 1+cur_sub_index] = tmp_regressor.score(\n",
    "            cur_pipeline[:-1].transform(cur_X), \n",
    "            cur_y, sample_weight=cur_w\n",
    "        )\n",
    "\n",
    "fix_error_table(error_table_1, cities_data)"
   ]
  },
  {
   "cell_type": "markdown",
   "metadata": {},
   "source": [
    "### Add Geo data from previous notebook"
   ]
  },
  {
   "cell_type": "code",
   "execution_count": null,
   "metadata": {},
   "outputs": [],
   "source": [
    "from prepare_data.prepare_data_2 import prepare_data_2"
   ]
  },
  {
   "cell_type": "code",
   "execution_count": null,
   "metadata": {},
   "outputs": [],
   "source": [
    "error_table_2 = np.zeros((len(cities_data), 1+len(cur_regressor_list)))\n",
    "\n",
    "for (cur_index, cur_city) in enumerate(cities_data.itertuples()):\n",
    "    print(cur_city.name)\n",
    "    \n",
    "    cur_X, cur_y, cur_w = prepare_data_2(cur_city.X_train, cur_city.y_train, cur_city.bgm_pipeline)\n",
    "\n",
    "    cur_pipeline = clone(cloned_pipeline).fit(\n",
    "        cur_X, cur_y, **{'regressor__sample_weight': cur_w}\n",
    "    )\n",
    "    \n",
    "    cur_X, cur_y, cur_w = prepare_data_2(cur_city.X_test, cur_city.y_test, cur_city.bgm_pipeline)\n",
    "\n",
    "    error_table_2[cur_index, 0] = \\\n",
    "        cur_pipeline.score(cur_X, cur_y, cur_w)\n",
    "\n",
    "    for (cur_sub_index, tmp_regressor) in enumerate(cur_pipeline[-1].regr_):\n",
    "        error_table_2[cur_index, 1+cur_sub_index] = tmp_regressor.score(\n",
    "            cur_pipeline[:-1].transform(cur_X), \n",
    "            cur_y, sample_weight=cur_w\n",
    "        )\n",
    "\n",
    "fix_error_table(error_table_2, cities_data)"
   ]
  },
  {
   "cell_type": "markdown",
   "metadata": {},
   "source": [
    "-----\n",
    "\n",
    "#### Table Recap\n"
   ]
  },
  {
   "cell_type": "code",
   "execution_count": null,
   "metadata": {},
   "outputs": [],
   "source": [
    "fixed_table_1 = fix_error_table(error_table_1, cities_data)\n",
    "fixed_table_2 = fix_error_table(error_table_2, cities_data)\n",
    "\n",
    "fixed_table_net = fixed_table_2 - fixed_table_1\n",
    "\n",
    "fixed_table_net\n"
   ]
  },
  {
   "cell_type": "markdown",
   "metadata": {},
   "source": [
    "----"
   ]
  },
  {
   "cell_type": "code",
   "execution_count": null,
   "metadata": {},
   "outputs": [],
   "source": [
    "fixed_table_1\n"
   ]
  },
  {
   "cell_type": "markdown",
   "metadata": {},
   "source": [
    "----\n"
   ]
  },
  {
   "cell_type": "code",
   "execution_count": null,
   "metadata": {},
   "outputs": [],
   "source": [
    "fixed_table_2\n"
   ]
  },
  {
   "cell_type": "code",
   "execution_count": null,
   "metadata": {},
   "outputs": [],
   "source": []
  }
 ],
 "metadata": {
  "kernelspec": {
   "display_name": "Python 3",
   "language": "python",
   "name": "python3"
  },
  "language_info": {
   "codemirror_mode": {
    "name": "ipython",
    "version": 3
   },
   "file_extension": ".py",
   "mimetype": "text/x-python",
   "name": "python",
   "nbconvert_exporter": "python",
   "pygments_lexer": "ipython3",
   "version": "3.7.4"
  }
 },
 "nbformat": 4,
 "nbformat_minor": 2
}
